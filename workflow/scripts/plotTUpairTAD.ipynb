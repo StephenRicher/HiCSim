{
 "cells": [
  {
   "cell_type": "code",
   "execution_count": 201,
   "metadata": {},
   "outputs": [],
   "source": [
    "import pandas as pd\n",
    "import seaborn as sns"
   ]
  },
  {
   "cell_type": "code",
   "execution_count": 306,
   "metadata": {},
   "outputs": [],
   "source": [
    "dtypes = {'TU1': str, 'TU2': str, 'active-TU1': int,\n",
    "          'active-TU2': int, 'TADstatus': str, 'rep': int}\n",
    "tuDATA = pd.read_csv('exampleSynthetic-TU-TADstatus.csv.gz',\n",
    "                    dtype=dtypes, usecols=dtypes.keys())"
   ]
  },
  {
   "cell_type": "code",
   "execution_count": 307,
   "metadata": {},
   "outputs": [],
   "source": [
    "validStatus = ['adjacentBoundary', 'sameTAD']\n",
    "tuDATA = tuDATA.loc[tuDATA['TADstatus'].isin(validStatus)]"
   ]
  },
  {
   "cell_type": "code",
   "execution_count": 314,
   "metadata": {},
   "outputs": [],
   "source": [
    "a = tuDATA.groupby(['TU1', 'TU2', 'TADstatus', 'rep']).corr().iloc[0::2,-1].dropna().reset_index()"
   ]
  },
  {
   "cell_type": "code",
   "execution_count": 319,
   "metadata": {},
   "outputs": [
    {
     "data": {
      "text/plain": [
       "rep  TADstatus       \n",
       "0    adjacentBoundary   -0.009929\n",
       "     sameTAD             0.277080\n",
       "1    adjacentBoundary   -0.034954\n",
       "     sameTAD            -0.011342\n",
       "Name: active-TU2, dtype: float64"
      ]
     },
     "execution_count": 319,
     "metadata": {},
     "output_type": "execute_result"
    }
   ],
   "source": [
    "a.groupby(['rep', 'TADstatus'])['active-TU2'].mean()"
   ]
  }
 ],
 "metadata": {
  "kernelspec": {
   "display_name": "Python 3",
   "language": "python",
   "name": "python3"
  },
  "language_info": {
   "codemirror_mode": {
    "name": "ipython",
    "version": 3
   },
   "file_extension": ".py",
   "mimetype": "text/x-python",
   "name": "python",
   "nbconvert_exporter": "python",
   "pygments_lexer": "ipython3",
   "version": "3.7.3"
  }
 },
 "nbformat": 4,
 "nbformat_minor": 4
}
