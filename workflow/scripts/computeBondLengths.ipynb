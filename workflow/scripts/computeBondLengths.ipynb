{
 "cells": [
  {
   "cell_type": "code",
   "execution_count": 4,
   "metadata": {},
   "outputs": [],
   "source": [
    "import numpy as np\n",
    "import pandas as pd"
   ]
  },
  {
   "cell_type": "code",
   "execution_count": 21,
   "metadata": {},
   "outputs": [],
   "source": [
    "file = '/media/stephen/Data/modelling/GNG12-v2/GNG12/3000/reps/1/lammps/simulation.csv.gz'\n",
    "file = '/home/stephen/Documents/testWarmup.csv'"
   ]
  },
  {
   "cell_type": "code",
   "execution_count": 35,
   "metadata": {},
   "outputs": [],
   "source": [
    "dat = pd.read_csv(file, sep='\\s+')"
   ]
  },
  {
   "cell_type": "code",
   "execution_count": 36,
   "metadata": {},
   "outputs": [],
   "source": [
    "#single = dat.loc[(dat['type'] == 3) & (dat['time'] == 0), ['x', 'y', 'z']]\n",
    "single = dat.loc[(dat['type'] == 3), ['x', 'y', 'z']]\n",
    "single = single.diff(axis=0).dropna()"
   ]
  },
  {
   "cell_type": "code",
   "execution_count": 37,
   "metadata": {},
   "outputs": [],
   "source": [
    "def distance(delta, dimensions):\n",
    "    delta = np.where(abs(delta) > 0.5 * dimensions, abs(delta) - dimensions, delta)\n",
    "    return np.sqrt((delta ** 2).sum(axis=-1))"
   ]
  },
  {
   "cell_type": "code",
   "execution_count": 38,
   "metadata": {},
   "outputs": [
    {
     "data": {
      "text/html": [
       "<div>\n",
       "<style scoped>\n",
       "    .dataframe tbody tr th:only-of-type {\n",
       "        vertical-align: middle;\n",
       "    }\n",
       "\n",
       "    .dataframe tbody tr th {\n",
       "        vertical-align: top;\n",
       "    }\n",
       "\n",
       "    .dataframe thead th {\n",
       "        text-align: right;\n",
       "    }\n",
       "</style>\n",
       "<table border=\"1\" class=\"dataframe\">\n",
       "  <thead>\n",
       "    <tr style=\"text-align: right;\">\n",
       "      <th></th>\n",
       "      <th>x</th>\n",
       "      <th>y</th>\n",
       "      <th>z</th>\n",
       "    </tr>\n",
       "  </thead>\n",
       "  <tbody>\n",
       "    <tr>\n",
       "      <th>1</th>\n",
       "      <td>-0.88322</td>\n",
       "      <td>-0.39925</td>\n",
       "      <td>0.60015</td>\n",
       "    </tr>\n",
       "    <tr>\n",
       "      <th>2</th>\n",
       "      <td>-0.92678</td>\n",
       "      <td>-0.80778</td>\n",
       "      <td>-0.04117</td>\n",
       "    </tr>\n",
       "    <tr>\n",
       "      <th>3</th>\n",
       "      <td>-0.22063</td>\n",
       "      <td>-1.10981</td>\n",
       "      <td>-0.17132</td>\n",
       "    </tr>\n",
       "    <tr>\n",
       "      <th>4</th>\n",
       "      <td>-0.75493</td>\n",
       "      <td>-0.65694</td>\n",
       "      <td>0.32856</td>\n",
       "    </tr>\n",
       "    <tr>\n",
       "      <th>5</th>\n",
       "      <td>-1.05171</td>\n",
       "      <td>0.06125</td>\n",
       "      <td>0.19560</td>\n",
       "    </tr>\n",
       "    <tr>\n",
       "      <th>...</th>\n",
       "      <td>...</td>\n",
       "      <td>...</td>\n",
       "      <td>...</td>\n",
       "    </tr>\n",
       "    <tr>\n",
       "      <th>1995</th>\n",
       "      <td>1.01410</td>\n",
       "      <td>-0.25656</td>\n",
       "      <td>0.00845</td>\n",
       "    </tr>\n",
       "    <tr>\n",
       "      <th>1996</th>\n",
       "      <td>0.73057</td>\n",
       "      <td>-0.44012</td>\n",
       "      <td>-0.60576</td>\n",
       "    </tr>\n",
       "    <tr>\n",
       "      <th>1997</th>\n",
       "      <td>1.11609</td>\n",
       "      <td>-0.04657</td>\n",
       "      <td>-0.34078</td>\n",
       "    </tr>\n",
       "    <tr>\n",
       "      <th>1998</th>\n",
       "      <td>0.96391</td>\n",
       "      <td>0.27314</td>\n",
       "      <td>0.20705</td>\n",
       "    </tr>\n",
       "    <tr>\n",
       "      <th>1999</th>\n",
       "      <td>0.26552</td>\n",
       "      <td>0.84853</td>\n",
       "      <td>0.69232</td>\n",
       "    </tr>\n",
       "  </tbody>\n",
       "</table>\n",
       "<p>1999 rows × 3 columns</p>\n",
       "</div>"
      ],
      "text/plain": [
       "            x        y        z\n",
       "1    -0.88322 -0.39925  0.60015\n",
       "2    -0.92678 -0.80778 -0.04117\n",
       "3    -0.22063 -1.10981 -0.17132\n",
       "4    -0.75493 -0.65694  0.32856\n",
       "5    -1.05171  0.06125  0.19560\n",
       "...       ...      ...      ...\n",
       "1995  1.01410 -0.25656  0.00845\n",
       "1996  0.73057 -0.44012 -0.60576\n",
       "1997  1.11609 -0.04657 -0.34078\n",
       "1998  0.96391  0.27314  0.20705\n",
       "1999  0.26552  0.84853  0.69232\n",
       "\n",
       "[1999 rows x 3 columns]"
      ]
     },
     "execution_count": 38,
     "metadata": {},
     "output_type": "execute_result"
    }
   ],
   "source": [
    "single"
   ]
  },
  {
   "cell_type": "code",
   "execution_count": 39,
   "metadata": {},
   "outputs": [
    {
     "data": {
      "text/plain": [
       "<matplotlib.axes._subplots.AxesSubplot at 0x7f815cd5b780>"
      ]
     },
     "execution_count": 39,
     "metadata": {},
     "output_type": "execute_result"
    },
    {
     "data": {
      "image/png": "[encoded data removed]",
      "text/plain": [
       "<Figure size 432x288 with 1 Axes>"
      ]
     },
     "metadata": {
      "needs_background": "light"
     },
     "output_type": "display_data"
    }
   ],
   "source": [
    "single.apply(distance, axis=1, args=(np.array([100, 100, 100]),)).plot()"
   ]
  },
  {
   "cell_type": "code",
   "execution_count": 170,
   "metadata": {},
   "outputs": [],
   "source": [
    "file = '/media/stephen/Data/modelling/GNG12-v2/GNG12/3000/reps/1/lammps/simulation.csv.gz'\n",
    "dat = pd.read_csv(file)"
   ]
  },
  {
   "cell_type": "code",
   "execution_count": 174,
   "metadata": {},
   "outputs": [
    {
     "data": {
      "text/plain": [
       "<matplotlib.axes._subplots.AxesSubplot at 0x7fc9c00a4780>"
      ]
     },
     "execution_count": 174,
     "metadata": {},
     "output_type": "execute_result"
    },
    {
     "data": {
      "image/png": "[encoded data removed]",
      "text/plain": [
       "<Figure size 432x288 with 1 Axes>"
      ]
     },
     "metadata": {
      "needs_background": "light"
     },
     "output_type": "display_data"
    }
   ],
   "source": [
    "single = dat.loc[(dat['type'] == 3) & (dat['time'] == 1000), ['x', 'y', 'z']]\n",
    "single = single.diff(axis=0).dropna()\n",
    "single.apply(distance, axis=1, args=(np.array([100, 100, 100]),)).plot()"
   ]
  },
  {
   "cell_type": "code",
   "execution_count": 93,
   "metadata": {},
   "outputs": [
    {
     "data": {
      "text/html": [
       "<div>\n",
       "<style scoped>\n",
       "    .dataframe tbody tr th:only-of-type {\n",
       "        vertical-align: middle;\n",
       "    }\n",
       "\n",
       "    .dataframe tbody tr th {\n",
       "        vertical-align: top;\n",
       "    }\n",
       "\n",
       "    .dataframe thead th {\n",
       "        text-align: right;\n",
       "    }\n",
       "</style>\n",
       "<table border=\"1\" class=\"dataframe\">\n",
       "  <thead>\n",
       "    <tr style=\"text-align: right;\">\n",
       "      <th></th>\n",
       "      <th>time</th>\n",
       "      <th>id</th>\n",
       "      <th>type</th>\n",
       "      <th>x</th>\n",
       "      <th>y</th>\n",
       "      <th>z</th>\n",
       "      <th>ix</th>\n",
       "      <th>iy</th>\n",
       "      <th>iz</th>\n",
       "    </tr>\n",
       "  </thead>\n",
       "  <tbody>\n",
       "    <tr>\n",
       "      <th>1405</th>\n",
       "      <td>0</td>\n",
       "      <td>1406</td>\n",
       "      <td>3</td>\n",
       "      <td>49.89099</td>\n",
       "      <td>-13.25275</td>\n",
       "      <td>-22.53321</td>\n",
       "      <td>0</td>\n",
       "      <td>0</td>\n",
       "      <td>1</td>\n",
       "    </tr>\n",
       "  </tbody>\n",
       "</table>\n",
       "</div>"
      ],
      "text/plain": [
       "      time    id  type         x         y         z  ix  iy  iz\n",
       "1405     0  1406     3  49.89099 -13.25275 -22.53321   0   0   1"
      ]
     },
     "execution_count": 93,
     "metadata": {},
     "output_type": "execute_result"
    }
   ],
   "source": [
    "single[single['id'] == 1406]"
   ]
  },
  {
   "cell_type": "code",
   "execution_count": 137,
   "metadata": {},
   "outputs": [
    {
     "name": "stdout",
     "output_type": "stream",
     "text": [
      "count    1326.000000\n",
      "mean        2.525037\n",
      "std        11.950679\n",
      "min         0.885917\n",
      "25%         0.950703\n",
      "50%         0.974109\n",
      "75%         1.002342\n",
      "max        99.686353\n",
      "dtype: float64\n"
     ]
    }
   ],
   "source": [
    "polymerOnly = dat.loc[dat['type'] ==  3]\n",
    "for time, df in polymerOnly.groupby('time'):\n",
    "    a = np.sqrt(((df[['x', 'y', 'z']].diff(axis=0).dropna()) ** 2).sum(axis=1))\n",
    "    print(a.describe())\n",
    "    break"
   ]
  },
  {
   "cell_type": "code",
   "execution_count": 77,
   "metadata": {},
   "outputs": [
    {
     "data": {
      "text/plain": [
       "672"
      ]
     },
     "execution_count": 77,
     "metadata": {},
     "output_type": "execute_result"
    }
   ],
   "source": [
    "2078-1406"
   ]
  },
  {
   "cell_type": "code",
   "execution_count": null,
   "metadata": {},
   "outputs": [],
   "source": []
  }
 ],
 "metadata": {
  "kernelspec": {
   "display_name": "Python 3",
   "language": "python",
   "name": "python3"
  },
  "language_info": {
   "codemirror_mode": {
    "name": "ipython",
    "version": 3
   },
   "file_extension": ".py",
   "mimetype": "text/x-python",
   "name": "python",
   "nbconvert_exporter": "python",
   "pygments_lexer": "ipython3",
   "version": "3.7.3"
  }
 },
 "nbformat": 4,
 "nbformat_minor": 4
}
